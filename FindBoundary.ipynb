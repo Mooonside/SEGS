{
 "cells": [
  {
   "cell_type": "code",
   "execution_count": 188,
   "metadata": {
    "collapsed": false
   },
   "outputs": [],
   "source": [
    "from skimage.io import imread, imsave\n",
    "import os\n",
    "import numpy as np\n",
    "import matplotlib.pyplot as plt"
   ]
  },
  {
   "cell_type": "code",
   "execution_count": 180,
   "metadata": {
    "collapsed": true
   },
   "outputs": [],
   "source": [
    "from matplotlib import cm"
   ]
  },
  {
   "cell_type": "code",
   "execution_count": 2,
   "metadata": {
    "collapsed": true
   },
   "outputs": [],
   "source": [
    "num_classes = 21\n",
    "\n",
    "mode = 'train'\n",
    "\n",
    "DEFUALT_PATHS = {\n",
    "    'images': '/mnt/disk/chenyifeng/VOC2012/tf_records/images',\n",
    "    'annotations': '/mnt/disk/chenyifeng/VOC2012/tf_records/annotations',\n",
    "    'segmentations': '/mnt/disk/chenyifeng/VOC2012/tf_records/segmentations'\n",
    "}\n",
    "\n",
    "pic_names = open('/mnt/disk/chenyifeng/VOC2012/tf_records/pascal_voc_{}.txt'.format(mode)).readlines()\n",
    "pic_names = [i.rstrip('\\n') for i in pic_names]\n",
    "\n",
    "for key in DEFUALT_PATHS.keys():\n",
    "    DEFUALT_PATHS[key] = os.path.join(DEFUALT_PATHS[key], mode)"
   ]
  },
  {
   "cell_type": "markdown",
   "metadata": {},
   "source": [
    "# show segmentation label"
   ]
  },
  {
   "cell_type": "code",
   "execution_count": 189,
   "metadata": {
    "collapsed": false,
    "scrolled": true
   },
   "outputs": [
    {
     "name": "stderr",
     "output_type": "stream",
     "text": [
      "WARNING:matplotlib.image:Clipping input data to the valid range for imshow with RGB data ([0..1] for floats or [0..255] for integers).\n"
     ]
    },
    {
     "data": {
      "text/plain": [
       "<matplotlib.image.AxesImage at 0x7f678847a438>"
      ]
     },
     "execution_count": 189,
     "metadata": {},
     "output_type": "execute_result"
    },
    {
     "data": {
      "image/png": "[encoded data removed]",
      "text/plain": [
       "<Figure size 432x288 with 1 Axes>"
      ]
     },
     "metadata": {},
     "output_type": "display_data"
    }
   ],
   "source": [
    "# for idx, name in enumerate(pic_names):\n",
    "name= pic_names[2]\n",
    "segmentation = imread(os.path.join(DEFUALT_PATHS['segmentations'], name+'.png'))\n",
    "image = imread(os.path.join(DEFUALT_PATHS['images'], name+'.jpg'))\n",
    "\n",
    "from datasets.pascal_voc_utils import pascal_voc_palette\n",
    "\n",
    "one_hot = np.zeros([*segmentation.shape + (21,)])\n",
    "\n",
    "for i in range(one_hot.shape[0]):\n",
    "    for j in range(one_hot.shape[1]):\n",
    "        one_hot[i, j ,segmentation[i, j]] = 1\n",
    "\n",
    "one_hot = one_hot.dot(pascal_voc_palette)\n",
    "\n",
    "plt.imshow(one_hot)"
   ]
  },
  {
   "cell_type": "markdown",
   "metadata": {},
   "source": [
    "# locate boundary"
   ]
  },
  {
   "cell_type": "code",
   "execution_count": 182,
   "metadata": {
    "collapsed": false
   },
   "outputs": [],
   "source": [
    "def naive_boundary(segmentation):\n",
    "    vet_pad = np.pad(segmentation,[[1,0],[0,0]], mode='reflect')\n",
    "    vet_bnd = np.zeros(segmentation.shape)\n",
    "\n",
    "    for i in range(segmentation.shape[0]):\n",
    "        vet_bnd[i, :] = (np.not_equal(vet_pad[i+1, :], vet_pad[i, :]))\n",
    "\n",
    "    hor_pad = np.pad(segmentation,[[0,0],[1,0]], mode='reflect')\n",
    "    hor_bnd = np.zeros(segmentation.shape)\n",
    "\n",
    "    for i in range(segmentation.shape[1]):\n",
    "        hor_bnd[:, i] = (np.not_equal(hor_pad[:, i+1], hor_pad[:, i]))\n",
    "\n",
    "    bnd = hor_bnd + vet_bnd\n",
    "    bnd[bnd > 0] = 1\n",
    "    bnd[bnd < 0] = 0\n",
    "    \n",
    "    for row in range(bnd.shape[0]):\n",
    "        for col in range(bnd.shape[1]):\n",
    "            if bnd[row][col] ==1:\n",
    "                for tryx in range(max(0, row-1), min(row+2, bnd.shape[0])):\n",
    "                    for tryy in range(max(0, col-1), min(col+2, bnd.shape[1])):\n",
    "                        bnd[tryx][tryy] = 2\n",
    "    bnd[bnd > 0] = 255\n",
    "\n",
    "    return bnd"
   ]
  },
  {
   "cell_type": "code",
   "execution_count": 199,
   "metadata": {
    "collapsed": false,
    "scrolled": true
   },
   "outputs": [],
   "source": [
    "out_dir = '/mnt/disk/chenyifeng/VOC2012/tf_records/boundaries'\n",
    "for name in pic_names:\n",
    "    segmentation = imread(os.path.join(DEFUALT_PATHS['segmentations'], name+'.png'))\n",
    "    image = imread(os.path.join(DEFUALT_PATHS['images'], name+'.jpg'))\n",
    "    bnd = naive_boundary(segmentation)\n",
    "    plt.imsave(os.path.join(out_dir, name+'.png'), np.uint8(bnd), cmap = cm.gray)"
   ]
  }
 ],
 "metadata": {
  "kernelspec": {
   "display_name": "Python 3",
   "language": "python",
   "name": "python3"
  },
  "language_info": {
   "codemirror_mode": {
    "name": "ipython",
    "version": 3
   },
   "file_extension": ".py",
   "mimetype": "text/x-python",
   "name": "python",
   "nbconvert_exporter": "python",
   "pygments_lexer": "ipython3",
   "version": "3.6.4"
  }
 },
 "nbformat": 4,
 "nbformat_minor": 2
}
